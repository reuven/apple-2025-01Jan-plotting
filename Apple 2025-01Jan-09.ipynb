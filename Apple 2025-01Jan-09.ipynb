{
 "cells": [
  {
   "cell_type": "markdown",
   "id": "1264fe51-4b2e-43ec-9795-2bb27062efad",
   "metadata": {},
   "source": [
    "# Agenda\n",
    "\n",
    "1. Background on plotting in Python/Pandas\n",
    "2. Plotting with a Pandas series\n",
    "    - line plot\n",
    "    - bar plot / barh\n",
    "    - Histogram\n",
    "    - Pie plot\n",
    "    - Boxplot\n",
    "3. Plotting with a data frame\n",
    "    - line\n",
    "    - bar\n",
    "    - histogram\n",
    "    - pie plot\n",
    "    - boxplot\n",
    "4. Scatterplots\n",
    "    - options for these\n",
    "5. Tricks with plots\n",
    "6. If there's time -- Seaborn"
   ]
  },
  {
   "cell_type": "code",
   "execution_count": null,
   "id": "c1b8205f-6a55-4e6d-9ae9-43c9ffed1b9e",
   "metadata": {},
   "outputs": [],
   "source": []
  }
 ],
 "metadata": {
  "kernelspec": {
   "display_name": "Python 3 (ipykernel)",
   "language": "python",
   "name": "python3"
  },
  "language_info": {
   "codemirror_mode": {
    "name": "ipython",
    "version": 3
   },
   "file_extension": ".py",
   "mimetype": "text/x-python",
   "name": "python",
   "nbconvert_exporter": "python",
   "pygments_lexer": "ipython3",
   "version": "3.13.1"
  },
  "widgets": {
   "application/vnd.jupyter.widget-state+json": {
    "state": {},
    "version_major": 2,
    "version_minor": 0
   }
  }
 },
 "nbformat": 4,
 "nbformat_minor": 5
}
