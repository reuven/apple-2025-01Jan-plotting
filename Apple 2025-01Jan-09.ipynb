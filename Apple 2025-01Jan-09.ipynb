{
 "cells": [
  {
   "cell_type": "markdown",
   "id": "1264fe51-4b2e-43ec-9795-2bb27062efad",
   "metadata": {},
   "source": [
    "# Agenda\n",
    "\n",
    "1. Background on plotting in Python/Pandas\n",
    "2. Plotting with a Pandas series\n",
    "    - line plot\n",
    "    - bar plot / barh\n",
    "    - Histogram\n",
    "    - Pie plot\n",
    "    - Boxplot\n",
    "3. Plotting with a data frame\n",
    "    - line\n",
    "    - bar\n",
    "    - histogram\n",
    "    - pie plot\n",
    "    - boxplot\n",
    "4. Scatterplots\n",
    "    - options for these\n",
    "5. Tricks with plots\n",
    "6. If there's time -- Seaborn"
   ]
  },
  {
   "cell_type": "markdown",
   "id": "1aa09d0a-d317-4754-9ac0-b0f2f3b995ca",
   "metadata": {},
   "source": [
    "https://github.com/reuven/apple-2025-01Jan-plotting/blob/main/Apple%202025-01Jan-09.ipynb"
   ]
  },
  {
   "cell_type": "markdown",
   "id": "3b5815ae-77de-48ce-843d-95c36ec1ff0b",
   "metadata": {},
   "source": [
    "# Plotting ih Python\n",
    "\n",
    "- Matplotlib\n",
    "- Pandas API for plotting\n",
    "\n"
   ]
  },
  {
   "cell_type": "code",
   "execution_count": null,
   "id": "808c209c-eab3-4339-84f2-b0b06d615ae0",
   "metadata": {},
   "outputs": [],
   "source": []
  }
 ],
 "metadata": {
  "kernelspec": {
   "display_name": "Python 3 (ipykernel)",
   "language": "python",
   "name": "python3"
  },
  "language_info": {
   "codemirror_mode": {
    "name": "ipython",
    "version": 3
   },
   "file_extension": ".py",
   "mimetype": "text/x-python",
   "name": "python",
   "nbconvert_exporter": "python",
   "pygments_lexer": "ipython3",
   "version": "3.13.1"
  },
  "widgets": {
   "application/vnd.jupyter.widget-state+json": {
    "state": {},
    "version_major": 2,
    "version_minor": 0
   }
  }
 },
 "nbformat": 4,
 "nbformat_minor": 5
}
